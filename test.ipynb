{
 "cells": [
  {
   "cell_type": "code",
   "execution_count": 1,
   "metadata": {},
   "outputs": [],
   "source": [
    "import matplotlib.pyplot as plt\n",
    "import numpy as np\n",
    "import cv2\n",
    "import sys\n",
    "import os\n",
    "\n",
    "%matplotlib inline"
   ]
  },
  {
   "cell_type": "code",
   "execution_count": null,
   "metadata": {},
   "outputs": [],
   "source": [
    "def build_montages(image_list, image_shape, montage_shape):\n",
    "    \"\"\"\n",
    "    ---------------------------------------------------------------------------------------------\n",
    "    author: Kyle Hounslow\n",
    "    ---------------------------------------------------------------------------------------------\n",
    "    Converts a list of single images into a list of 'montage' images of specified rows and columns.\n",
    "    A new montage image is started once rows and columns of montage image is filled.\n",
    "    Empty space of incomplete montage images are filled with black pixels\n",
    "    ---------------------------------------------------------------------------------------------\n",
    "    :param image_list: python list of input images\n",
    "    :param image_shape: tuple, size each image will be resized to for display (width, height)\n",
    "    :param montage_shape: tuple, shape of image montage (width, height)\n",
    "    :return: list of montage images in numpy array format\n",
    "    ---------------------------------------------------------------------------------------------\n",
    "    example usage:\n",
    "    # load single image\n",
    "    img = cv2.imread('lena.jpg')\n",
    "    # duplicate image 25 times\n",
    "    num_imgs = 25\n",
    "    img_list = []\n",
    "    for i in xrange(num_imgs):\n",
    "        img_list.append(img)\n",
    "    # convert image list into a montage of 256x256 images tiled in a 5x5 montage\n",
    "    montages = make_montages_of_images(img_list, (256, 256), (5, 5))\n",
    "    # iterate through montages and display\n",
    "    for montage in montages:\n",
    "        cv2.imshow('montage image', montage)\n",
    "        cv2.waitKey(0)\n",
    "    ----------------------------------------------------------------------------------------------\n",
    "    \"\"\"\n",
    "    if len(image_shape) != 2:\n",
    "        raise Exception('image shape must be list or tuple of length 2 (rows, cols)')\n",
    "    if len(montage_shape) != 2:\n",
    "        raise Exception('montage shape must be list or tuple of length 2 (rows, cols)')\n",
    "    image_montages = []\n",
    "    # start with black canvas to draw images onto\n",
    "    montage_image = np.zeros(shape=(image_shape[1] * (montage_shape[1]), image_shape[0] * montage_shape[0], 3),\n",
    "                          dtype=np.uint8)\n",
    "    cursor_pos = [0, 0]\n",
    "    start_new_img = False\n",
    "    for img in image_list:\n",
    "        if type(img).__module__ != np.__name__:\n",
    "            raise Exception('input of type {} is not a valid numpy array'.format(type(img)))\n",
    "        start_new_img = False\n",
    "        img = cv2.resize(img, image_shape)\n",
    "        # draw image to black canvas\n",
    "        montage_image[cursor_pos[1]:cursor_pos[1] + image_shape[1], cursor_pos[0]:cursor_pos[0] + image_shape[0]] = img\n",
    "        cursor_pos[0] += image_shape[0]  # increment cursor x position\n",
    "        if cursor_pos[0] >= montage_shape[0] * image_shape[0]:\n",
    "            cursor_pos[1] += image_shape[1]  # increment cursor y position\n",
    "            cursor_pos[0] = 0\n",
    "            if cursor_pos[1] >= montage_shape[1] * image_shape[1]:\n",
    "                cursor_pos = [0, 0]\n",
    "                image_montages.append(montage_image)\n",
    "                # reset black canvas\n",
    "                montage_image = np.zeros(shape=(image_shape[1] * (montage_shape[1]), image_shape[0] * montage_shape[0], 3),\n",
    "                                      dtype=np.uint8)\n",
    "                start_new_img = True\n",
    "    if start_new_img is False:\n",
    "        image_montages.append(montage_image)  # add unfinished montage\n",
    "    return image_montages"
   ]
  },
  {
   "cell_type": "code",
   "execution_count": 2,
   "metadata": {},
   "outputs": [],
   "source": [
    "def build_montage(img_square_s, img_square_l, img_tall, img_wide, mask=False):\n",
    "    \"\"\"Generate a montage image with size of 224x224\n",
    "\n",
    "    Args:\n",
    "        img_square_s: input image will be resize to \n",
    "            small square image with size 64x64\n",
    "        img_square_l: input image will be resize to \n",
    "            large square image with size 64x64160x160\n",
    "        img_tall: input image will be resize to \n",
    "            tall image with size 160x64 \n",
    "        img_wide: input image will be resize to \n",
    "            wide square image with size 64x160\n",
    "        mask: False if inputs are images, \n",
    "            True if inputs are segmentation masks\n",
    "\n",
    "    Returns:\n",
    "        montage_image: the montage image with channel=3 if mask=False,\n",
    "            channel=1 of mask=True\n",
    "    \"\"\"\n",
    "    # Start with black canvas to draw images onto\n",
    "    if mask:\n",
    "        montage_image = np.zeros(shape=(224, 224), dtype=np.uint8)\n",
    "    else:\n",
    "        montage_image = np.zeros(shape=(224, 224, 3), dtype=np.uint8)\n",
    "\n",
    "    # Resize images for montage\n",
    "    top_left_img = cv2.resize(img_square_s, (64, 64))\n",
    "    top_right_img = cv2.resize(img_wide, (160, 64))\n",
    "    bottom_left_img = cv2.resize(img_tall, (64, 160))\n",
    "    bottom_right_img = cv2.resize(img_square_l, (160, 160))\n",
    "\n",
    "    montage_image[0:64, 0:64] = top_left_img\n",
    "    montage_image[64:, 0:64] = bottom_left_img\n",
    "    montage_image[0:64:, 64:] = top_right_img\n",
    "    montage_image[64:, 64:] = bottom_right_img\n",
    "\n",
    "    return montage_image"
   ]
  },
  {
   "cell_type": "code",
   "execution_count": 6,
   "metadata": {},
   "outputs": [],
   "source": [
    "img1 = cv2.imread('ADE20K-custom/annotations/training/ADE_train_00008041.png', cv2.IMREAD_ANYDEPTH)\n",
    "img2 = cv2.imread('ADE20K-custom/annotations/training/ADE_train_00012975.png', cv2.IMREAD_ANYDEPTH)\n",
    "img3 = cv2.imread('ADE20K-custom/annotations/training/ADE_train_00009141.png', cv2.IMREAD_ANYDEPTH)\n",
    "img4 = cv2.imread('ADE20K-custom/annotations/training/ADE_train_00007405.png', cv2.IMREAD_ANYDEPTH)"
   ]
  },
  {
   "cell_type": "code",
   "execution_count": 7,
   "metadata": {},
   "outputs": [],
   "source": [
    "a = build_montage(img1, img2, img3, img4, mask=True)"
   ]
  },
  {
   "cell_type": "code",
   "execution_count": 9,
   "metadata": {},
   "outputs": [
    {
     "data": {
      "image/png": "[encoded data removed]",
      "text/plain": [
       "<Figure size 432x288 with 1 Axes>"
      ]
     },
     "metadata": {
      "needs_background": "light"
     },
     "output_type": "display_data"
    }
   ],
   "source": [
    "# a = a[:, :, ::-1]\n",
    "plt.imshow(a, cmap=\"gray\")\n",
    "plt.show()"
   ]
  },
  {
   "cell_type": "code",
   "execution_count": null,
   "metadata": {},
   "outputs": [],
   "source": []
  }
 ],
 "metadata": {
  "kernelspec": {
   "display_name": "practice_env",
   "language": "python",
   "name": "python3"
  },
  "language_info": {
   "codemirror_mode": {
    "name": "ipython",
    "version": 3
   },
   "file_extension": ".py",
   "mimetype": "text/x-python",
   "name": "python",
   "nbconvert_exporter": "python",
   "pygments_lexer": "ipython3",
   "version": "3.8.8"
  },
  "orig_nbformat": 4,
  "vscode": {
   "interpreter": {
    "hash": "d8ada48e6ddf8b9ce10691f16755ac29816c1a52e1d5e74ad77bee9c1f01cc8f"
   }
  }
 },
 "nbformat": 4,
 "nbformat_minor": 2
}
