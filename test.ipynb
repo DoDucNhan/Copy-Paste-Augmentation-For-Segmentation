{
 "cells": [
  {
   "cell_type": "code",
   "execution_count": 1,
   "metadata": {},
   "outputs": [],
   "source": [
    "import matplotlib.pyplot as plt\n",
    "import numpy as np\n",
    "import cv2\n",
    "import sys\n",
    "import os\n",
    "\n",
    "%matplotlib inline"
   ]
  },
  {
   "cell_type": "code",
   "execution_count": null,
   "metadata": {},
   "outputs": [],
   "source": [
    "def build_montages(image_list, image_shape, montage_shape):\n",
    "    \"\"\"\n",
    "    ---------------------------------------------------------------------------------------------\n",
    "    author: Kyle Hounslow\n",
    "    ---------------------------------------------------------------------------------------------\n",
    "    Converts a list of single images into a list of 'montage' images of specified rows and columns.\n",
    "    A new montage image is started once rows and columns of montage image is filled.\n",
    "    Empty space of incomplete montage images are filled with black pixels\n",
    "    ---------------------------------------------------------------------------------------------\n",
    "    :param image_list: python list of input images\n",
    "    :param image_shape: tuple, size each image will be resized to for display (width, height)\n",
    "    :param montage_shape: tuple, shape of image montage (width, height)\n",
    "    :return: list of montage images in numpy array format\n",
    "    ---------------------------------------------------------------------------------------------\n",
    "    example usage:\n",
    "    # load single image\n",
    "    img = cv2.imread('lena.jpg')\n",
    "    # duplicate image 25 times\n",
    "    num_imgs = 25\n",
    "    img_list = []\n",
    "    for i in xrange(num_imgs):\n",
    "        img_list.append(img)\n",
    "    # convert image list into a montage of 256x256 images tiled in a 5x5 montage\n",
    "    montages = make_montages_of_images(img_list, (256, 256), (5, 5))\n",
    "    # iterate through montages and display\n",
    "    for montage in montages:\n",
    "        cv2.imshow('montage image', montage)\n",
    "        cv2.waitKey(0)\n",
    "    ----------------------------------------------------------------------------------------------\n",
    "    \"\"\"\n",
    "    if len(image_shape) != 2:\n",
    "        raise Exception('image shape must be list or tuple of length 2 (rows, cols)')\n",
    "    if len(montage_shape) != 2:\n",
    "        raise Exception('montage shape must be list or tuple of length 2 (rows, cols)')\n",
    "    image_montages = []\n",
    "    # start with black canvas to draw images onto\n",
    "    montage_image = np.zeros(shape=(image_shape[1] * (montage_shape[1]), image_shape[0] * montage_shape[0], 3),\n",
    "                          dtype=np.uint8)\n",
    "    cursor_pos = [0, 0]\n",
    "    start_new_img = False\n",
    "    for img in image_list:\n",
    "        if type(img).__module__ != np.__name__:\n",
    "            raise Exception('input of type {} is not a valid numpy array'.format(type(img)))\n",
    "        start_new_img = False\n",
    "        img = cv2.resize(img, image_shape)\n",
    "        # draw image to black canvas\n",
    "        montage_image[cursor_pos[1]:cursor_pos[1] + image_shape[1], cursor_pos[0]:cursor_pos[0] + image_shape[0]] = img\n",
    "        cursor_pos[0] += image_shape[0]  # increment cursor x position\n",
    "        if cursor_pos[0] >= montage_shape[0] * image_shape[0]:\n",
    "            cursor_pos[1] += image_shape[1]  # increment cursor y position\n",
    "            cursor_pos[0] = 0\n",
    "            if cursor_pos[1] >= montage_shape[1] * image_shape[1]:\n",
    "                cursor_pos = [0, 0]\n",
    "                image_montages.append(montage_image)\n",
    "                # reset black canvas\n",
    "                montage_image = np.zeros(shape=(image_shape[1] * (montage_shape[1]), image_shape[0] * montage_shape[0], 3),\n",
    "                                      dtype=np.uint8)\n",
    "                start_new_img = True\n",
    "    if start_new_img is False:\n",
    "        image_montages.append(montage_image)  # add unfinished montage\n",
    "    return image_montages"
   ]
  },
  {
   "cell_type": "code",
   "execution_count": 2,
   "metadata": {},
   "outputs": [],
   "source": [
    "def build_montage(img_square_s, img_square_l, img_tall, img_wide, mask=False):\n",
    "    \"\"\"Generate a montage image with size of 224x224\n",
    "\n",
    "    Args:\n",
    "        img_square_s: input image will be resize to \n",
    "            small square image with size 64x64\n",
    "        img_square_l: input image will be resize to \n",
    "            large square image with size 64x64160x160\n",
    "        img_tall: input image will be resize to \n",
    "            tall image with size 160x64 \n",
    "        img_wide: input image will be resize to \n",
    "            wide square image with size 64x160\n",
    "        mask: False if inputs are images, \n",
    "            True if inputs are segmentation masks\n",
    "\n",
    "    Returns:\n",
    "        montage_image: the montage image with channel=3 if mask=False,\n",
    "            channel=1 of mask=True\n",
    "    \"\"\"\n",
    "    # Start with black canvas to draw images onto\n",
    "    if mask:\n",
    "        montage_image = np.zeros(shape=(224, 224), dtype=np.uint8)\n",
    "    else:\n",
    "        montage_image = np.zeros(shape=(224, 224, 3), dtype=np.uint8)\n",
    "\n",
    "    # Resize images for montage\n",
    "    top_left_img = cv2.resize(img_square_s, (64, 64))\n",
    "    top_right_img = cv2.resize(img_wide, (160, 64))\n",
    "    bottom_left_img = cv2.resize(img_tall, (64, 160))\n",
    "    bottom_right_img = cv2.resize(img_square_l, (160, 160))\n",
    "\n",
    "    montage_image[0:64, 0:64] = top_left_img\n",
    "    montage_image[64:, 0:64] = bottom_left_img\n",
    "    montage_image[0:64:, 64:] = top_right_img\n",
    "    montage_image[64:, 64:] = bottom_right_img\n",
    "\n",
    "    return montage_image"
   ]
  },
  {
   "cell_type": "code",
   "execution_count": 6,
   "metadata": {},
   "outputs": [],
   "source": [
    "img1 = cv2.imread('ADE20K-custom/annotations/training/ADE_train_00008041.png', cv2.IMREAD_ANYDEPTH)\n",
    "img2 = cv2.imread('ADE20K-custom/annotations/training/ADE_train_00012975.png', cv2.IMREAD_ANYDEPTH)\n",
    "img3 = cv2.imread('ADE20K-custom/annotations/training/ADE_train_00009141.png', cv2.IMREAD_ANYDEPTH)\n",
    "img4 = cv2.imread('ADE20K-custom/annotations/training/ADE_train_00007405.png', cv2.IMREAD_ANYDEPTH)"
   ]
  },
  {
   "cell_type": "code",
   "execution_count": 7,
   "metadata": {},
   "outputs": [],
   "source": [
    "a = build_montage(img1, img2, img3, img4, mask=True)"
   ]
  },
  {
   "cell_type": "code",
   "execution_count": 9,
   "metadata": {},
   "outputs": [
    {
     "data": {
      "image/png": "[encoded data removed]",
      "text/plain": [
       "<Figure size 432x288 with 1 Axes>"
      ]
     },
     "metadata": {
      "needs_background": "light"
     },
     "output_type": "display_data"
    }
   ],
   "source": [
    "# a = a[:, :, ::-1]\n",
    "plt.imshow(a, cmap=\"gray\")\n",
    "plt.show()"
   ]
  },
  {
   "attachments": {},
   "cell_type": "markdown",
   "metadata": {},
   "source": [
    "### Test segment error"
   ]
  },
  {
   "cell_type": "code",
   "execution_count": 3,
   "metadata": {},
   "outputs": [
    {
     "name": "stdout",
     "output_type": "stream",
     "text": [
      "load checkpoint from local path: checkpoints/beit/upernet_beit-large_fp16_8x1_640x640_160k_ade20k-8fc0dd5d.pth\n"
     ]
    }
   ],
   "source": [
    "from mmseg.apis import init_segmentor, inference_segmentor\n",
    "from mmseg.core.evaluation import get_classes\n",
    "from utils import crop_object, get_image_data\n",
    "from scipy.stats import entropy\n",
    "import os.path as osp\n",
    "import numpy as np\n",
    "import torch\n",
    "import cv2\n",
    "import os\n",
    "\n",
    "\n",
    "config_file = 'configs/beit/upernet_beit-large_fp16_8x1_640x640_160k_ade20k.py'\n",
    "checkpoint_file = 'checkpoints/beit/upernet_beit-large_fp16_8x1_640x640_160k_ade20k-8fc0dd5d.pth'\n",
    "\n",
    "\n",
    "model = init_segmentor(config_file, checkpoint_file, device='cuda:0')\n",
    "classes = get_classes('ade20k')\n",
    "class2label = {cls: i for i, cls in enumerate(classes)}\n",
    "\n",
    "image = cv2.imread(\"crawl_images/escalator/000006.jpg\") \n",
    "\n",
    "object_id = class2label[\"escalator\"]\n",
    "# Segmentation\n",
    "alpha = 0.2\n",
    "data = get_image_data(model, \"crawl_images/escalator/000006.jpg\")\n",
    "with torch.no_grad():\n",
    "    class_softmax = model.inference(data['img'][0], data['img_metas'][0], True)\n",
    "output = class_softmax.argmax(dim=1)\n",
    "# Apply entropy threshold to keep confident pixels\n",
    "class_entropy = entropy(class_softmax.cpu(), axis=1)\n",
    "threshold = np.percentile(class_entropy.flatten(), 100 * (1 - alpha))\n",
    "refine = np.where(class_entropy[0] < threshold, 1, 0)\n",
    "refine_output = output.cpu() * refine\n",
    "object_mask = np.where(refine_output == object_id, object_id, 0)\n",
    "# Skip if object pixels is too little compared to whole image\n",
    "obj_pixel_ratio = np.sum(object_mask != 0) / (object_mask.shape[0] * object_mask.shape[1])"
   ]
  },
  {
   "cell_type": "code",
   "execution_count": 4,
   "metadata": {},
   "outputs": [
    {
     "ename": "error",
     "evalue": "OpenCV(4.6.0) /io/opencv/modules/core/src/copy.cpp:1026: error: (-215:Assertion failed) top >= 0 && bottom >= 0 && left >= 0 && right >= 0 && _src.dims() <= 2 in function 'copyMakeBorder'\n",
     "output_type": "error",
     "traceback": [
      "\u001b[0;31m---------------------------------------------------------------------------\u001b[0m",
      "\u001b[0;31merror\u001b[0m                                     Traceback (most recent call last)",
      "Cell \u001b[0;32mIn[4], line 1\u001b[0m\n\u001b[0;32m----> 1\u001b[0m cropped_images, cropped_masks \u001b[39m=\u001b[39m crop_object(image, object_mask, object_id)\n",
      "File \u001b[0;32m~/segmentation/Copy-Paste-Augmentation-For-Segmentation/utils.py:81\u001b[0m, in \u001b[0;36mcrop_object\u001b[0;34m(obj_img, obj_mask, obj_id, max_obj)\u001b[0m\n\u001b[1;32m     79\u001b[0m cropped_mask \u001b[39m=\u001b[39m []\n\u001b[1;32m     80\u001b[0m item_mask \u001b[39m=\u001b[39m obj_mask \u001b[39m==\u001b[39m obj_id\n\u001b[0;32m---> 81\u001b[0m contours, _ \u001b[39m=\u001b[39m cv2\u001b[39m.\u001b[39;49mfindContours(item_mask\u001b[39m.\u001b[39;49mastype(\u001b[39m'\u001b[39;49m\u001b[39mu1\u001b[39;49m\u001b[39m'\u001b[39;49m), \n\u001b[1;32m     82\u001b[0m                                cv2\u001b[39m.\u001b[39;49mRETR_TREE, cv2\u001b[39m.\u001b[39;49mCHAIN_APPROX_SIMPLE)\n\u001b[1;32m     83\u001b[0m \u001b[39m# Get the list of sorted contour by area\u001b[39;00m\n\u001b[1;32m     84\u001b[0m sorted_contours \u001b[39m=\u001b[39m sort_contour(contours)\n",
      "\u001b[0;31merror\u001b[0m: OpenCV(4.6.0) /io/opencv/modules/core/src/copy.cpp:1026: error: (-215:Assertion failed) top >= 0 && bottom >= 0 && left >= 0 && right >= 0 && _src.dims() <= 2 in function 'copyMakeBorder'\n"
     ]
    }
   ],
   "source": [
    "cropped_images, cropped_masks = crop_object(image, object_mask, object_id)"
   ]
  },
  {
   "cell_type": "code",
   "execution_count": 9,
   "metadata": {},
   "outputs": [],
   "source": [
    "item_mask = object_mask == object_id"
   ]
  },
  {
   "cell_type": "code",
   "execution_count": 11,
   "metadata": {},
   "outputs": [],
   "source": [
    "import matplotlib.pyplot as plt"
   ]
  },
  {
   "cell_type": "code",
   "execution_count": 13,
   "metadata": {},
   "outputs": [
    {
     "data": {
      "text/plain": [
       "<matplotlib.image.AxesImage at 0x7f44d27fa130>"
      ]
     },
     "execution_count": 13,
     "metadata": {},
     "output_type": "execute_result"
    },
    {
     "data": {
      "image/png": "[encoded data removed]",
      "text/plain": [
       "<Figure size 640x480 with 1 Axes>"
      ]
     },
     "metadata": {},
     "output_type": "display_data"
    }
   ],
   "source": [
    "plt.imshow(item_mask[0], cmap=\"gray\")"
   ]
  }
 ],
 "metadata": {
  "kernelspec": {
   "display_name": ".venv",
   "language": "python",
   "name": "python3"
  },
  "language_info": {
   "codemirror_mode": {
    "name": "ipython",
    "version": 3
   },
   "file_extension": ".py",
   "mimetype": "text/x-python",
   "name": "python",
   "nbconvert_exporter": "python",
   "pygments_lexer": "ipython3",
   "version": "3.8.10"
  },
  "orig_nbformat": 4,
  "vscode": {
   "interpreter": {
    "hash": "4f74b54d89ed22eefdb23a0fbc191008065c4bc4fd390c32c9dd21546d4ca258"
   }
  }
 },
 "nbformat": 4,
 "nbformat_minor": 2
}
